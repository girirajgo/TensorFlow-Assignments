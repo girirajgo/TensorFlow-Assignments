{
  "nbformat": 4,
  "nbformat_minor": 0,
  "metadata": {
    "colab": {
      "name": "Computer_vision.ipynb",
      "provenance": [],
      "authorship_tag": "ABX9TyOUtRtM8rF8uRSEyB6idaEJ",
      "include_colab_link": true
    },
    "kernelspec": {
      "name": "python3",
      "display_name": "Python 3"
    }
  },
  "cells": [
    {
      "cell_type": "markdown",
      "metadata": {
        "id": "view-in-github",
        "colab_type": "text"
      },
      "source": [
        "<a href=\"https://colab.research.google.com/github/girirajgo/TensorFlow-Assignments/blob/master/Computer_vision.ipynb\" target=\"_parent\"><img src=\"https://colab.research.google.com/assets/colab-badge.svg\" alt=\"Open In Colab\"/></a>"
      ]
    },
    {
      "cell_type": "code",
      "metadata": {
        "id": "2m7FyorpTH6m",
        "colab_type": "code",
        "colab": {
          "base_uri": "https://localhost:8080/",
          "height": 408
        },
        "outputId": "fb7456d8-822d-40cc-e0ab-c2dd30528c5d"
      },
      "source": [
        "import tensorflow as tf\n",
        "# mnist_fashion=tf.keras.datasets.fashion_mnist\n",
        "(train_images,train_labels), (test_images, test_labels)= tf.keras.datasets.fashion_mnist.load_data()\n",
        "# train_images=train_images/255.0\n",
        "# test_images=test_images/255.0\n",
        "model=tf.keras.models.Sequential([\n",
        "                                  tf.keras.layers.Flatten(input_shape=(28,28)),\n",
        "                                  tf.keras.layers.Dense(512, activation=tf.nn.relu),\n",
        "                                  tf.keras.layers.Dense(10,activation= tf.nn.softmax)\n",
        "])\n",
        "model.compile(optimizer=tf.optimizers.Adam(), loss='sparse_categorical_crossentropy', metrics=['accuracy'])\n",
        "model.fit(train_images/255.0, train_labels, epochs=10)\n",
        "model.evaluate(test_images/255.0, test_labels)\n",
        "classifications=model.predict(test_images)\n",
        "print(classifications[95])\n",
        "print(test_labels[95])\n",
        "\n"
      ],
      "execution_count": 13,
      "outputs": [
        {
          "output_type": "stream",
          "text": [
            "Epoch 1/10\n",
            "1875/1875 [==============================] - 6s 3ms/step - loss: 0.4720 - accuracy: 0.8313\n",
            "Epoch 2/10\n",
            "1875/1875 [==============================] - 6s 3ms/step - loss: 0.3590 - accuracy: 0.8694\n",
            "Epoch 3/10\n",
            "1875/1875 [==============================] - 6s 3ms/step - loss: 0.3233 - accuracy: 0.8814\n",
            "Epoch 4/10\n",
            "1875/1875 [==============================] - 6s 3ms/step - loss: 0.3008 - accuracy: 0.8888\n",
            "Epoch 5/10\n",
            "1875/1875 [==============================] - 6s 3ms/step - loss: 0.2820 - accuracy: 0.8954\n",
            "Epoch 6/10\n",
            "1875/1875 [==============================] - 6s 3ms/step - loss: 0.2657 - accuracy: 0.9014\n",
            "Epoch 7/10\n",
            "1875/1875 [==============================] - 6s 3ms/step - loss: 0.2536 - accuracy: 0.9057\n",
            "Epoch 8/10\n",
            "1875/1875 [==============================] - 6s 3ms/step - loss: 0.2422 - accuracy: 0.9094\n",
            "Epoch 9/10\n",
            "1875/1875 [==============================] - 6s 3ms/step - loss: 0.2351 - accuracy: 0.9119\n",
            "Epoch 10/10\n",
            "1875/1875 [==============================] - 6s 3ms/step - loss: 0.2245 - accuracy: 0.9155\n",
            "313/313 [==============================] - 1s 2ms/step - loss: 0.3203 - accuracy: 0.8931\n",
            "[0. 0. 0. 0. 0. 0. 0. 0. 1. 0.]\n",
            "8\n"
          ],
          "name": "stdout"
        }
      ]
    },
    {
      "cell_type": "code",
      "metadata": {
        "id": "WWgGm3RSXXce",
        "colab_type": "code",
        "colab": {
          "base_uri": "https://localhost:8080/",
          "height": 85
        },
        "outputId": "d82dd68b-52fc-4fc9-e629-7a9b4d978e44"
      },
      "source": [
        ""
      ],
      "execution_count": 10,
      "outputs": [
        {
          "output_type": "stream",
          "text": [
            "313/313 [==============================] - 1s 2ms/step - loss: 0.3306 - accuracy: 0.8881\n",
            "[5.1792822e-04 3.5298889e-08 1.9175170e-02 3.1614530e-07 2.3472202e-03\n",
            " 1.8418483e-03 1.6424906e-02 8.4610874e-06 9.5968407e-01 4.7918256e-08]\n",
            "8\n"
          ],
          "name": "stdout"
        }
      ]
    }
  ]
}